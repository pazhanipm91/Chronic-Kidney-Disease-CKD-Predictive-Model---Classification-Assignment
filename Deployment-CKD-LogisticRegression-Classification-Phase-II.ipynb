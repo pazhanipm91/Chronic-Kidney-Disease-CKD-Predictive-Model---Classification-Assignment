{
 "cells": [
  {
   "cell_type": "code",
   "execution_count": 1,
   "id": "a15b75d3-99c9-4da9-8f91-49fe9ec74b1a",
   "metadata": {},
   "outputs": [],
   "source": [
    "import pickle"
   ]
  },
  {
   "cell_type": "code",
   "execution_count": 3,
   "id": "3fff316c-c457-4dcc-804a-6e20a2cc0a00",
   "metadata": {},
   "outputs": [],
   "source": [
    "# Next step is to load the saved model.\n",
    "loaded_model=pickle.load(open(\"finalized_model_CKD_LogisticRegression_classification.sav\",'rb'))"
   ]
  },
  {
   "cell_type": "code",
   "execution_count": 4,
   "id": "e8121a74-16ee-4e27-8b3f-44fefa72f6a0",
   "metadata": {},
   "outputs": [
    {
     "name": "stdin",
     "output_type": "stream",
     "text": [
      "Age:  45\n",
      "Blood Pressure:  80\n",
      "Albumin (0-5):  2\n",
      "Sugar (0-5):  0\n",
      "Blood Glucose Random:  150\n",
      "Blood Urea:  35\n",
      "Serum Creatinine:  1.2\n",
      "Sodium:  135\n",
      "Potassium:  4.5\n",
      "Hemoglobin:  12\n",
      "Packed Cell Volume:  1\n",
      "White Blood Cell Count:  0\n",
      "Red Blood Cell Count:  0\n",
      "Specific Gravity_b (0/1):  1\n",
      "Specific Gravity_c (0/1):  1\n",
      "Specific Gravity_d (0/1):  0\n",
      "Specific Gravity_e (0/1):  1\n",
      "RBC Normal (0/1):  0\n",
      "PC Normal (0/1):  0\n",
      "PCC Present (0/1):  1\n",
      "BA Present (0/1):  0\n",
      "Hypertension (0/1):  0\n",
      "Diabetes Mellitus (0/1):  0\n",
      "CAD (0/1):  1\n",
      "Good Appetite (0/1):  1\n",
      "Pedal Edema (0/1):  0\n",
      "Anemia (0/1):  0\n"
     ]
    }
   ],
   "source": [
    "\n",
    "#Here we have to check with the user input in real time.\n",
    "# Example prediction with input_data\n",
    "# Collect user inputs (example with only a few, extend for all features)\n",
    "age_input = float(input(\"Age: \"))\n",
    "bp_input = float(input(\"Blood Pressure: \"))\n",
    "al_input = int(input(\"Albumin (0-5): \"))\n",
    "su_input = int(input(\"Sugar (0-5): \"))\n",
    "bgr_input = float(input(\"Blood Glucose Random: \"))\n",
    "bu_input = float(input(\"Blood Urea: \"))\n",
    "sc_input = float(input(\"Serum Creatinine: \"))\n",
    "sod_input = float(input(\"Sodium: \"))\n",
    "pot_input = float(input(\"Potassium: \"))\n",
    "hrmo_input = float(input(\"Hemoglobin: \"))\n",
    "pcv_input = float(input(\"Packed Cell Volume: \"))\n",
    "wc_input = float(input(\"White Blood Cell Count: \"))\n",
    "rc_input = float(input(\"Red Blood Cell Count: \"))\n",
    "\n",
    "# For categorical (binary) inputs\n",
    "sg_b_input = int(input(\"Specific Gravity_b (0/1): \"))\n",
    "sg_c_input = int(input(\"Specific Gravity_c (0/1): \"))\n",
    "sg_d_input = int(input(\"Specific Gravity_d (0/1): \"))\n",
    "sg_e_input = int(input(\"Specific Gravity_e (0/1): \"))\n",
    "rbc_normal_input = int(input(\"RBC Normal (0/1): \"))\n",
    "pc_normal_input = int(input(\"PC Normal (0/1): \"))\n",
    "pcc_present_input = int(input(\"PCC Present (0/1): \"))\n",
    "ba_present_input = int(input(\"BA Present (0/1): \"))\n",
    "htn_yes_input = int(input(\"Hypertension (0/1): \"))\n",
    "dm_yes_input = int(input(\"Diabetes Mellitus (0/1): \"))\n",
    "cad_yes_input = int(input(\"CAD (0/1): \"))\n",
    "appet_yes_input = int(input(\"Good Appetite (0/1): \"))\n",
    "pe_yes_input = int(input(\"Pedal Edema (0/1): \"))\n",
    "ane_yes_input = int(input(\"Anemia (0/1): \"))\n"
   ]
  },
  {
   "cell_type": "code",
   "execution_count": 6,
   "id": "621c01f7-e8e0-45d9-951f-c1f74e92033d",
   "metadata": {},
   "outputs": [],
   "source": [
    "\n",
    "import pandas as pd\n",
    "# Build input data row (same order as training dataset columns except output column)\n",
    "input_data = pd.DataFrame([[ \n",
    "    age_input, bp_input, al_input, su_input, bgr_input, bu_input, sc_input, sod_input, pot_input, hrmo_input,\n",
    "    pcv_input, wc_input, rc_input,\n",
    "    sg_b_input, sg_c_input, sg_d_input, sg_e_input,\n",
    "    rbc_normal_input, pc_normal_input, pcc_present_input, ba_present_input,\n",
    "    htn_yes_input, dm_yes_input, cad_yes_input, appet_yes_input, pe_yes_input, ane_yes_input\n",
    "]], columns=[\n",
    "    'age', 'bp', 'al', 'su', 'bgr', 'bu', 'sc', 'sod', 'pot', 'hrmo', \n",
    "    'pcv', 'wc', 'rc',\n",
    "    'sg_b', 'sg_c', 'sg_d', 'sg_e',\n",
    "    'rbc_normal', 'pc_normal', 'pcc_present', 'ba_present',\n",
    "    'htn_yes', 'dm_yes', 'cad_yes', 'appet_yes', 'pe_yes', 'ane_yes'\n",
    "])"
   ]
  },
  {
   "cell_type": "code",
   "execution_count": 7,
   "id": "e9283153-2026-417b-a5a5-c87121ba967b",
   "metadata": {},
   "outputs": [
    {
     "name": "stderr",
     "output_type": "stream",
     "text": [
      "C:\\Anaconda3\\Lib\\site-packages\\sklearn\\utils\\validation.py:2732: UserWarning: X has feature names, but LogisticRegression was fitted without feature names\n",
      "  warnings.warn(\n"
     ]
    }
   ],
   "source": [
    "# Make prediction\n",
    "result = loaded_model.predict(input_data)"
   ]
  },
  {
   "cell_type": "code",
   "execution_count": 8,
   "id": "1ec4abfc-a030-491d-b8ed-b1d56ec49db0",
   "metadata": {},
   "outputs": [
    {
     "data": {
      "text/plain": [
       "array([ True])"
      ]
     },
     "execution_count": 8,
     "metadata": {},
     "output_type": "execute_result"
    }
   ],
   "source": [
    "result"
   ]
  },
  {
   "cell_type": "code",
   "execution_count": null,
   "id": "380b3058-5e90-4cfa-9d65-78b32c608a68",
   "metadata": {},
   "outputs": [],
   "source": []
  }
 ],
 "metadata": {
  "kernelspec": {
   "display_name": "Python [conda env:base] *",
   "language": "python",
   "name": "conda-base-py"
  },
  "language_info": {
   "codemirror_mode": {
    "name": "ipython",
    "version": 3
   },
   "file_extension": ".py",
   "mimetype": "text/x-python",
   "name": "python",
   "nbconvert_exporter": "python",
   "pygments_lexer": "ipython3",
   "version": "3.13.5"
  }
 },
 "nbformat": 4,
 "nbformat_minor": 5
}
